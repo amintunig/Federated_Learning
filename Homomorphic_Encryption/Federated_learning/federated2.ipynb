{
 "cells": [
  {
   "cell_type": "markdown",
   "id": "f7ddb97d",
   "metadata": {},
   "source": [
    "https://www.kaggle.com/datasets/masoudnickparvar/brain-tumor-mri-dataset"
   ]
  },
  {
   "cell_type": "code",
   "execution_count": 14,
   "id": "c0d55c1f",
   "metadata": {},
   "outputs": [],
   "source": [
    "# Cell 1 — Configuration and Imports\n",
    "\n",
    "import os\n",
    "import numpy as np\n",
    "import tensorflow as tf\n",
    "import matplotlib.pyplot as plt\n",
    "from sklearn.metrics import classification_report, confusion_matrix\n",
    "from collections import defaultdict\n",
    "import pandas as pd\n",
    "\n",
    "DATA_DIR    = \"D:/Ascl_Mimic_Data/Brain Tumor MRI\"  # Change if needed\n",
    "TRAIN_DIR   = os.path.join(DATA_DIR, \"Training\")\n",
    "TEST_DIR    = os.path.join(DATA_DIR, \"Testing\")\n",
    "IMG_SIZE    = (224, 224)\n",
    "BATCH_SIZE  = 32\n",
    "SEED        = 42\n",
    "NUM_CLIENTS = 3\n",
    "LOCAL_EPOCHS = 5\n",
    "ROUNDS      = 5\n",
    "\n",
    "tf.keras.utils.set_random_seed(SEED)\n",
    "AUTOTUNE = tf.data.AUTOTUNE\n"
   ]
  },
  {
   "cell_type": "code",
   "execution_count": 15,
   "id": "c8e0e8ca",
   "metadata": {},
   "outputs": [],
   "source": [
    "# Cell 2 — Data Loading and Balanced Partitioning\n",
    "\n",
    "def _list_class_dirs(root):\n",
    "    return sorted([d for d in os.listdir(root) if os.path.isdir(os.path.join(root, d)) and not d.startswith('.')])\n",
    "\n",
    "def load_image_paths_and_labels(split_dir, class_names=None):\n",
    "    if class_names is None:\n",
    "        class_names = _list_class_dirs(split_dir)\n",
    "    image_paths, labels = [], []\n",
    "    for label_idx, class_name in enumerate(class_names):\n",
    "        class_dir = os.path.join(split_dir, class_name)\n",
    "        if not os.path.isdir(class_dir):\n",
    "            continue\n",
    "        for fname in os.listdir(class_dir):\n",
    "            if fname.lower().endswith((\".jpg\", \".jpeg\", \".png\", \".bmp\", \".tif\", \".tiff\")):\n",
    "                image_paths.append(os.path.join(class_dir, fname))\n",
    "                labels.append(label_idx)\n",
    "    return np.array(image_paths), np.array(labels), class_names\n",
    "\n",
    "def create_balanced_splits(images, labels, num_clients=NUM_CLIENTS, class_names=None, seed=SEED):\n",
    "    rng = np.random.default_rng(seed)\n",
    "    class_to_idx = defaultdict(list)\n",
    "    for i, y in enumerate(labels):\n",
    "        class_to_idx[int(y)].append(i)\n",
    "    for c in class_to_idx:\n",
    "        rng.shuffle(class_to_idx[c])\n",
    "\n",
    "    client_indices = [[] for _ in range(num_clients)]\n",
    "    for c, idxs in class_to_idx.items():\n",
    "        total = len(idxs)\n",
    "        per_client = total // num_clients\n",
    "        remainder = total % num_clients\n",
    "        if remainder:\n",
    "            print(f\"[warn] Class {class_names[c] if class_names else c}: \"\n",
    "                  f\"dropping {remainder} samples to keep exact balance ({total} -> {per_client*num_clients}).\")\n",
    "        for i in range(num_clients):\n",
    "            start = i * per_client\n",
    "            end = start + per_client\n",
    "            client_indices[i].extend(idxs[start:end])\n",
    "\n",
    "    client_data = []\n",
    "    for idxs in client_indices:\n",
    "        idxs = np.array(idxs, dtype=int)\n",
    "        client_data.append((images[idxs], labels[idxs]))\n",
    "    return client_data\n"
   ]
  },
  {
   "cell_type": "code",
   "execution_count": 16,
   "id": "861fc199",
   "metadata": {},
   "outputs": [],
   "source": [
    "# Cell 3 — Image Processing and Dataset Preparation with Strict Label Casting\n",
    "\n",
    "def process_image(path, training=False):\n",
    "    img = tf.io.read_file(path)\n",
    "    img = tf.image.decode_image(img, channels=3, expand_animations=False)\n",
    "    img = tf.image.resize(img, IMG_SIZE)\n",
    "    img = tf.cast(img, tf.float32) / 255.0\n",
    "    if training:\n",
    "        img = tf.image.random_flip_left_right(img)\n",
    "        img = tf.image.random_brightness(img, 0.1)\n",
    "    return img\n",
    "\n",
    "def preprocess_dataset(img_paths, labels, training=False):\n",
    "    # Convert labels to one-hot encoding\n",
    "    labels = tf.keras.utils.to_categorical(labels, num_classes=NUM_CLASSES)\n",
    "    img_ds = tf.data.Dataset.from_tensor_slices(img_paths)\n",
    "    img_ds = img_ds.map(lambda p: process_image(p, training), num_parallel_calls=AUTOTUNE)\n",
    "    lbl_ds = tf.data.Dataset.from_tensor_slices(labels)\n",
    "    ds = tf.data.Dataset.zip((img_ds, lbl_ds))\n",
    "    if training:\n",
    "        ds = ds.shuffle(1024, seed=SEED)\n",
    "    ds = ds.batch(BATCH_SIZE).prefetch(AUTOTUNE)\n",
    "    return ds\n",
    "\n",
    "# # Debug shapes in training dataset (uncomment to test)\n",
    "#     for img_batch, label_batch in preprocess_dataset(train_image_paths[:BATCH_SIZE], train_labels[:BATCH_SIZE], True).take(1):\n",
    "#         print(f\"Image batch shape: {img_batch.shape}, Label batch shape: {label_batch.shape}, Label dtype: {label_batch.dtype}\")\n"
   ]
  },
  {
   "cell_type": "code",
   "execution_count": 17,
   "id": "8db9b615",
   "metadata": {},
   "outputs": [
    {
     "name": "stdout",
     "output_type": "stream",
     "text": [
      "[warn] Class glioma: dropping 1 samples to keep exact balance (1321 -> 1320).\n",
      "[warn] Class meningioma: dropping 1 samples to keep exact balance (1339 -> 1338).\n",
      "[warn] Class notumor: dropping 2 samples to keep exact balance (1595 -> 1593).\n",
      "[warn] Class pituitary: dropping 2 samples to keep exact balance (1457 -> 1455).\n",
      "Client 0: total=1902 per-class=[440 446 531 485]\n",
      "Client 1: total=1902 per-class=[440 446 531 485]\n",
      "Client 2: total=1902 per-class=[440 446 531 485]\n",
      "Global test set size: 1311\n",
      "Image batch shape: (32, 224, 224, 3), Label batch shape: (32, 4), Label dtype: <dtype: 'float64'>\n"
     ]
    }
   ],
   "source": [
    "# Cell 4 — Load Data and Prepare Client Splits\n",
    "\n",
    "train_image_paths, train_labels, class_names = load_image_paths_and_labels(TRAIN_DIR)\n",
    "test_image_paths, test_labels, _ = load_image_paths_and_labels(TEST_DIR, class_names=class_names)\n",
    "NUM_CLASSES = len(class_names)\n",
    "\n",
    "client_data = create_balanced_splits(train_image_paths, train_labels, NUM_CLIENTS, class_names, SEED)\n",
    "\n",
    "# Print per-client class distribution for sanity check\n",
    "for cid, (_, lbls) in enumerate(client_data):\n",
    "    counts = np.bincount(lbls, minlength=NUM_CLASSES)\n",
    "    print(f\"Client {cid}: total={len(lbls)} per-class={counts}\")\n",
    "print(f\"Global test set size: {len(test_image_paths)}\")\n",
    "\n",
    "# Debug shapes in training dataset (uncomment to test)\n",
    "for img_batch, label_batch in preprocess_dataset(train_image_paths[:BATCH_SIZE], train_labels[:BATCH_SIZE], True).take(1):\n",
    "    print(f\"Image batch shape: {img_batch.shape}, Label batch shape: {label_batch.shape}, Label dtype: {label_batch.dtype}\")\n",
    "\n"
   ]
  },
  {
   "cell_type": "code",
   "execution_count": 18,
   "id": "5d415d03",
   "metadata": {},
   "outputs": [
    {
     "name": "stdout",
     "output_type": "stream",
     "text": [
      "Per-client class counts:\n",
      "           glioma  meningioma  notumor  pituitary\n",
      "Client 0     440         446      531        485\n",
      "Client 1     440         446      531        485\n",
      "Client 2     440         446      531        485\n"
     ]
    },
    {
     "data": {
      "image/png": "[encoded data removed]",
      "text/plain": [
       "<Figure size 1000x600 with 1 Axes>"
      ]
     },
     "metadata": {},
     "output_type": "display_data"
    }
   ],
   "source": [
    "# Cell 5 — Visualize Data Distribution Across Clients\n",
    "\n",
    "counts_arr = np.zeros((NUM_CLIENTS, NUM_CLASSES), dtype=int)\n",
    "for cid, (_, lbls) in enumerate(client_data):\n",
    "    counts_arr[cid] = np.bincount(lbls, minlength=NUM_CLASSES)\n",
    "\n",
    "df_counts = pd.DataFrame(counts_arr, index=[f\"Client {i}\" for i in range(NUM_CLIENTS)], columns=class_names)\n",
    "print(\"Per-client class counts:\\n\", df_counts)\n",
    "\n",
    "x = np.arange(NUM_CLASSES)\n",
    "width = 0.22\n",
    "offsets = np.linspace(-width, width, NUM_CLIENTS)\n",
    "plt.figure(figsize=(10, 6))\n",
    "for cid in range(NUM_CLIENTS):\n",
    "    plt.bar(x + offsets[cid], counts_arr[cid], width, label=f\"Client {cid}\")\n",
    "plt.xticks(x, class_names, rotation=30, ha=\"right\")\n",
    "plt.ylabel(\"Number of images\")\n",
    "plt.title(\"Per-class data partitioning across clients\")\n",
    "plt.legend()\n",
    "plt.tight_layout()\n",
    "plt.show()\n"
   ]
  },
  {
   "cell_type": "code",
   "execution_count": 19,
   "id": "1ed5e49c",
   "metadata": {},
   "outputs": [
    {
     "name": "stderr",
     "output_type": "stream",
     "text": [
      "c:\\Users\\amint\\anaconda3\\Lib\\site-packages\\keras\\src\\layers\\core\\input_layer.py:27: UserWarning: Argument `input_shape` is deprecated. Use `shape` instead.\n",
      "  warnings.warn(\n"
     ]
    },
    {
     "data": {
      "text/html": [
       "<pre style=\"white-space:pre;overflow-x:auto;line-height:normal;font-family:Menlo,'DejaVu Sans Mono',consolas,'Courier New',monospace\"><span style=\"font-weight: bold\">Model: \"sequential\"</span>\n",
       "</pre>\n"
      ],
      "text/plain": [
       "\u001b[1mModel: \"sequential\"\u001b[0m\n"
      ]
     },
     "metadata": {},
     "output_type": "display_data"
    },
    {
     "data": {
      "text/html": [
       "<pre style=\"white-space:pre;overflow-x:auto;line-height:normal;font-family:Menlo,'DejaVu Sans Mono',consolas,'Courier New',monospace\">┏━━━━━━━━━━━━━━━━━━━━━━━━━━━━━━━━━┳━━━━━━━━━━━━━━━━━━━━━━━━┳━━━━━━━━━━━━━━━┓\n",
       "┃<span style=\"font-weight: bold\"> Layer (type)                    </span>┃<span style=\"font-weight: bold\"> Output Shape           </span>┃<span style=\"font-weight: bold\">       Param # </span>┃\n",
       "┡━━━━━━━━━━━━━━━━━━━━━━━━━━━━━━━━━╇━━━━━━━━━━━━━━━━━━━━━━━━╇━━━━━━━━━━━━━━━┩\n",
       "│ conv2d (<span style=\"color: #0087ff; text-decoration-color: #0087ff\">Conv2D</span>)                 │ (<span style=\"color: #00d7ff; text-decoration-color: #00d7ff\">None</span>, <span style=\"color: #00af00; text-decoration-color: #00af00\">222</span>, <span style=\"color: #00af00; text-decoration-color: #00af00\">222</span>, <span style=\"color: #00af00; text-decoration-color: #00af00\">32</span>)   │           <span style=\"color: #00af00; text-decoration-color: #00af00\">896</span> │\n",
       "├─────────────────────────────────┼────────────────────────┼───────────────┤\n",
       "│ max_pooling2d (<span style=\"color: #0087ff; text-decoration-color: #0087ff\">MaxPooling2D</span>)    │ (<span style=\"color: #00d7ff; text-decoration-color: #00d7ff\">None</span>, <span style=\"color: #00af00; text-decoration-color: #00af00\">111</span>, <span style=\"color: #00af00; text-decoration-color: #00af00\">111</span>, <span style=\"color: #00af00; text-decoration-color: #00af00\">32</span>)   │             <span style=\"color: #00af00; text-decoration-color: #00af00\">0</span> │\n",
       "├─────────────────────────────────┼────────────────────────┼───────────────┤\n",
       "│ conv2d_1 (<span style=\"color: #0087ff; text-decoration-color: #0087ff\">Conv2D</span>)               │ (<span style=\"color: #00d7ff; text-decoration-color: #00d7ff\">None</span>, <span style=\"color: #00af00; text-decoration-color: #00af00\">109</span>, <span style=\"color: #00af00; text-decoration-color: #00af00\">109</span>, <span style=\"color: #00af00; text-decoration-color: #00af00\">64</span>)   │        <span style=\"color: #00af00; text-decoration-color: #00af00\">18,496</span> │\n",
       "├─────────────────────────────────┼────────────────────────┼───────────────┤\n",
       "│ max_pooling2d_1 (<span style=\"color: #0087ff; text-decoration-color: #0087ff\">MaxPooling2D</span>)  │ (<span style=\"color: #00d7ff; text-decoration-color: #00d7ff\">None</span>, <span style=\"color: #00af00; text-decoration-color: #00af00\">54</span>, <span style=\"color: #00af00; text-decoration-color: #00af00\">54</span>, <span style=\"color: #00af00; text-decoration-color: #00af00\">64</span>)     │             <span style=\"color: #00af00; text-decoration-color: #00af00\">0</span> │\n",
       "├─────────────────────────────────┼────────────────────────┼───────────────┤\n",
       "│ conv2d_2 (<span style=\"color: #0087ff; text-decoration-color: #0087ff\">Conv2D</span>)               │ (<span style=\"color: #00d7ff; text-decoration-color: #00d7ff\">None</span>, <span style=\"color: #00af00; text-decoration-color: #00af00\">52</span>, <span style=\"color: #00af00; text-decoration-color: #00af00\">52</span>, <span style=\"color: #00af00; text-decoration-color: #00af00\">128</span>)    │        <span style=\"color: #00af00; text-decoration-color: #00af00\">73,856</span> │\n",
       "├─────────────────────────────────┼────────────────────────┼───────────────┤\n",
       "│ max_pooling2d_2 (<span style=\"color: #0087ff; text-decoration-color: #0087ff\">MaxPooling2D</span>)  │ (<span style=\"color: #00d7ff; text-decoration-color: #00d7ff\">None</span>, <span style=\"color: #00af00; text-decoration-color: #00af00\">26</span>, <span style=\"color: #00af00; text-decoration-color: #00af00\">26</span>, <span style=\"color: #00af00; text-decoration-color: #00af00\">128</span>)    │             <span style=\"color: #00af00; text-decoration-color: #00af00\">0</span> │\n",
       "├─────────────────────────────────┼────────────────────────┼───────────────┤\n",
       "│ flatten (<span style=\"color: #0087ff; text-decoration-color: #0087ff\">Flatten</span>)               │ (<span style=\"color: #00d7ff; text-decoration-color: #00d7ff\">None</span>, <span style=\"color: #00af00; text-decoration-color: #00af00\">86528</span>)          │             <span style=\"color: #00af00; text-decoration-color: #00af00\">0</span> │\n",
       "├─────────────────────────────────┼────────────────────────┼───────────────┤\n",
       "│ dense (<span style=\"color: #0087ff; text-decoration-color: #0087ff\">Dense</span>)                   │ (<span style=\"color: #00d7ff; text-decoration-color: #00d7ff\">None</span>, <span style=\"color: #00af00; text-decoration-color: #00af00\">128</span>)            │    <span style=\"color: #00af00; text-decoration-color: #00af00\">11,075,712</span> │\n",
       "├─────────────────────────────────┼────────────────────────┼───────────────┤\n",
       "│ dropout (<span style=\"color: #0087ff; text-decoration-color: #0087ff\">Dropout</span>)               │ (<span style=\"color: #00d7ff; text-decoration-color: #00d7ff\">None</span>, <span style=\"color: #00af00; text-decoration-color: #00af00\">128</span>)            │             <span style=\"color: #00af00; text-decoration-color: #00af00\">0</span> │\n",
       "├─────────────────────────────────┼────────────────────────┼───────────────┤\n",
       "│ dense_1 (<span style=\"color: #0087ff; text-decoration-color: #0087ff\">Dense</span>)                 │ (<span style=\"color: #00d7ff; text-decoration-color: #00d7ff\">None</span>, <span style=\"color: #00af00; text-decoration-color: #00af00\">4</span>)              │           <span style=\"color: #00af00; text-decoration-color: #00af00\">516</span> │\n",
       "└─────────────────────────────────┴────────────────────────┴───────────────┘\n",
       "</pre>\n"
      ],
      "text/plain": [
       "┏━━━━━━━━━━━━━━━━━━━━━━━━━━━━━━━━━┳━━━━━━━━━━━━━━━━━━━━━━━━┳━━━━━━━━━━━━━━━┓\n",
       "┃\u001b[1m \u001b[0m\u001b[1mLayer (type)                   \u001b[0m\u001b[1m \u001b[0m┃\u001b[1m \u001b[0m\u001b[1mOutput Shape          \u001b[0m\u001b[1m \u001b[0m┃\u001b[1m \u001b[0m\u001b[1m      Param #\u001b[0m\u001b[1m \u001b[0m┃\n",
       "┡━━━━━━━━━━━━━━━━━━━━━━━━━━━━━━━━━╇━━━━━━━━━━━━━━━━━━━━━━━━╇━━━━━━━━━━━━━━━┩\n",
       "│ conv2d (\u001b[38;5;33mConv2D\u001b[0m)                 │ (\u001b[38;5;45mNone\u001b[0m, \u001b[38;5;34m222\u001b[0m, \u001b[38;5;34m222\u001b[0m, \u001b[38;5;34m32\u001b[0m)   │           \u001b[38;5;34m896\u001b[0m │\n",
       "├─────────────────────────────────┼────────────────────────┼───────────────┤\n",
       "│ max_pooling2d (\u001b[38;5;33mMaxPooling2D\u001b[0m)    │ (\u001b[38;5;45mNone\u001b[0m, \u001b[38;5;34m111\u001b[0m, \u001b[38;5;34m111\u001b[0m, \u001b[38;5;34m32\u001b[0m)   │             \u001b[38;5;34m0\u001b[0m │\n",
       "├─────────────────────────────────┼────────────────────────┼───────────────┤\n",
       "│ conv2d_1 (\u001b[38;5;33mConv2D\u001b[0m)               │ (\u001b[38;5;45mNone\u001b[0m, \u001b[38;5;34m109\u001b[0m, \u001b[38;5;34m109\u001b[0m, \u001b[38;5;34m64\u001b[0m)   │        \u001b[38;5;34m18,496\u001b[0m │\n",
       "├─────────────────────────────────┼────────────────────────┼───────────────┤\n",
       "│ max_pooling2d_1 (\u001b[38;5;33mMaxPooling2D\u001b[0m)  │ (\u001b[38;5;45mNone\u001b[0m, \u001b[38;5;34m54\u001b[0m, \u001b[38;5;34m54\u001b[0m, \u001b[38;5;34m64\u001b[0m)     │             \u001b[38;5;34m0\u001b[0m │\n",
       "├─────────────────────────────────┼────────────────────────┼───────────────┤\n",
       "│ conv2d_2 (\u001b[38;5;33mConv2D\u001b[0m)               │ (\u001b[38;5;45mNone\u001b[0m, \u001b[38;5;34m52\u001b[0m, \u001b[38;5;34m52\u001b[0m, \u001b[38;5;34m128\u001b[0m)    │        \u001b[38;5;34m73,856\u001b[0m │\n",
       "├─────────────────────────────────┼────────────────────────┼───────────────┤\n",
       "│ max_pooling2d_2 (\u001b[38;5;33mMaxPooling2D\u001b[0m)  │ (\u001b[38;5;45mNone\u001b[0m, \u001b[38;5;34m26\u001b[0m, \u001b[38;5;34m26\u001b[0m, \u001b[38;5;34m128\u001b[0m)    │             \u001b[38;5;34m0\u001b[0m │\n",
       "├─────────────────────────────────┼────────────────────────┼───────────────┤\n",
       "│ flatten (\u001b[38;5;33mFlatten\u001b[0m)               │ (\u001b[38;5;45mNone\u001b[0m, \u001b[38;5;34m86528\u001b[0m)          │             \u001b[38;5;34m0\u001b[0m │\n",
       "├─────────────────────────────────┼────────────────────────┼───────────────┤\n",
       "│ dense (\u001b[38;5;33mDense\u001b[0m)                   │ (\u001b[38;5;45mNone\u001b[0m, \u001b[38;5;34m128\u001b[0m)            │    \u001b[38;5;34m11,075,712\u001b[0m │\n",
       "├─────────────────────────────────┼────────────────────────┼───────────────┤\n",
       "│ dropout (\u001b[38;5;33mDropout\u001b[0m)               │ (\u001b[38;5;45mNone\u001b[0m, \u001b[38;5;34m128\u001b[0m)            │             \u001b[38;5;34m0\u001b[0m │\n",
       "├─────────────────────────────────┼────────────────────────┼───────────────┤\n",
       "│ dense_1 (\u001b[38;5;33mDense\u001b[0m)                 │ (\u001b[38;5;45mNone\u001b[0m, \u001b[38;5;34m4\u001b[0m)              │           \u001b[38;5;34m516\u001b[0m │\n",
       "└─────────────────────────────────┴────────────────────────┴───────────────┘\n"
      ]
     },
     "metadata": {},
     "output_type": "display_data"
    },
    {
     "data": {
      "text/html": [
       "<pre style=\"white-space:pre;overflow-x:auto;line-height:normal;font-family:Menlo,'DejaVu Sans Mono',consolas,'Courier New',monospace\"><span style=\"font-weight: bold\"> Total params: </span><span style=\"color: #00af00; text-decoration-color: #00af00\">11,169,476</span> (42.61 MB)\n",
       "</pre>\n"
      ],
      "text/plain": [
       "\u001b[1m Total params: \u001b[0m\u001b[38;5;34m11,169,476\u001b[0m (42.61 MB)\n"
      ]
     },
     "metadata": {},
     "output_type": "display_data"
    },
    {
     "data": {
      "text/html": [
       "<pre style=\"white-space:pre;overflow-x:auto;line-height:normal;font-family:Menlo,'DejaVu Sans Mono',consolas,'Courier New',monospace\"><span style=\"font-weight: bold\"> Trainable params: </span><span style=\"color: #00af00; text-decoration-color: #00af00\">11,169,476</span> (42.61 MB)\n",
       "</pre>\n"
      ],
      "text/plain": [
       "\u001b[1m Trainable params: \u001b[0m\u001b[38;5;34m11,169,476\u001b[0m (42.61 MB)\n"
      ]
     },
     "metadata": {},
     "output_type": "display_data"
    },
    {
     "data": {
      "text/html": [
       "<pre style=\"white-space:pre;overflow-x:auto;line-height:normal;font-family:Menlo,'DejaVu Sans Mono',consolas,'Courier New',monospace\"><span style=\"font-weight: bold\"> Non-trainable params: </span><span style=\"color: #00af00; text-decoration-color: #00af00\">0</span> (0.00 B)\n",
       "</pre>\n"
      ],
      "text/plain": [
       "\u001b[1m Non-trainable params: \u001b[0m\u001b[38;5;34m0\u001b[0m (0.00 B)\n"
      ]
     },
     "metadata": {},
     "output_type": "display_data"
    }
   ],
   "source": [
    "# Cell 6 — Define CNN Model\n",
    "\n",
    "def create_model(input_shape=(224, 224, 3), num_classes=NUM_CLASSES):\n",
    "    model = tf.keras.models.Sequential([\n",
    "        tf.keras.layers.InputLayer(input_shape=input_shape),\n",
    "        tf.keras.layers.Conv2D(32, (3, 3), activation=\"relu\"),\n",
    "        tf.keras.layers.MaxPooling2D(),\n",
    "        tf.keras.layers.Conv2D(64, (3, 3), activation=\"relu\"),\n",
    "        tf.keras.layers.MaxPooling2D(),\n",
    "        tf.keras.layers.Conv2D(128, (3, 3), activation=\"relu\"),\n",
    "        tf.keras.layers.MaxPooling2D(),\n",
    "        tf.keras.layers.Flatten(),\n",
    "        tf.keras.layers.Dense(128, activation=\"relu\"),\n",
    "        tf.keras.layers.Dropout(0.5),\n",
    "        tf.keras.layers.Dense(num_classes, activation=\"softmax\")\n",
    "    ])\n",
    "    model.compile(\n",
    "        optimizer='adam',\n",
    "        loss='categorical_crossentropy',\n",
    "        metrics=['accuracy', tf.keras.metrics.AUC(name='auc')]\n",
    "    )\n",
    "    return model\n",
    "\n",
    "model = create_model(input_shape=IMG_SIZE + (3,), num_classes=NUM_CLASSES)\n",
    "model.summary()\n"
   ]
  },
  {
   "cell_type": "code",
   "execution_count": 20,
   "id": "f3fed53f",
   "metadata": {},
   "outputs": [
    {
     "name": "stdout",
     "output_type": "stream",
     "text": [
      "\n",
      "### Federated Round 1 ###\n",
      "Training on Client 0 with 1902 samples\n",
      "Train batch images: (32, 224, 224, 3), labels: (32, 4), label dtype: <dtype: 'float64'>\n",
      "Epoch 1/5\n",
      "\u001b[1m48/48\u001b[0m \u001b[32m━━━━━━━━━━━━━━━━━━━━\u001b[0m\u001b[37m\u001b[0m \u001b[1m13s\u001b[0m 243ms/step - accuracy: 0.4197 - auc: 0.6947 - loss: 1.3398 - val_accuracy: 0.0026 - val_auc: 0.3792 - val_loss: 1.7217\n",
      "Epoch 2/5\n",
      "\u001b[1m48/48\u001b[0m \u001b[32m━━━━━━━━━━━━━━━━━━━━\u001b[0m\u001b[37m\u001b[0m \u001b[1m11s\u001b[0m 215ms/step - accuracy: 0.6215 - auc: 0.8889 - loss: 0.7769 - val_accuracy: 0.3570 - val_auc: 0.6182 - val_loss: 1.3948\n",
      "Epoch 3/5\n",
      "\u001b[1m48/48\u001b[0m \u001b[32m━━━━━━━━━━━━━━━━━━━━\u001b[0m\u001b[37m\u001b[0m \u001b[1m10s\u001b[0m 202ms/step - accuracy: 0.6898 - auc: 0.9093 - loss: 0.7067 - val_accuracy: 0.3990 - val_auc: 0.6728 - val_loss: 1.2881\n",
      "Epoch 4/5\n",
      "\u001b[1m48/48\u001b[0m \u001b[32m━━━━━━━━━━━━━━━━━━━━\u001b[0m\u001b[37m\u001b[0m \u001b[1m13s\u001b[0m 277ms/step - accuracy: 0.7333 - auc: 0.9288 - loss: 0.6239 - val_accuracy: 0.3517 - val_auc: 0.6781 - val_loss: 1.2747\n",
      "Epoch 5/5\n",
      "\u001b[1m48/48\u001b[0m \u001b[32m━━━━━━━━━━━━━━━━━━━━\u001b[0m\u001b[37m\u001b[0m \u001b[1m15s\u001b[0m 304ms/step - accuracy: 0.7505 - auc: 0.9404 - loss: 0.5603 - val_accuracy: 0.5748 - val_auc: 0.8455 - val_loss: 0.9294\n",
      "Training on Client 1 with 1902 samples\n",
      "Train batch images: (32, 224, 224, 3), labels: (32, 4), label dtype: <dtype: 'float64'>\n",
      "Epoch 1/5\n",
      "\u001b[1m48/48\u001b[0m \u001b[32m━━━━━━━━━━━━━━━━━━━━\u001b[0m\u001b[37m\u001b[0m \u001b[1m16s\u001b[0m 298ms/step - accuracy: 0.4271 - auc: 0.7188 - loss: 1.2554 - val_accuracy: 0.0052 - val_auc: 0.4894 - val_loss: 1.5819\n",
      "Epoch 2/5\n",
      "\u001b[1m48/48\u001b[0m \u001b[32m━━━━━━━━━━━━━━━━━━━━\u001b[0m\u001b[37m\u001b[0m \u001b[1m14s\u001b[0m 292ms/step - accuracy: 0.6215 - auc: 0.8887 - loss: 0.7664 - val_accuracy: 0.3937 - val_auc: 0.6427 - val_loss: 1.3632\n",
      "Epoch 3/5\n",
      "\u001b[1m48/48\u001b[0m \u001b[32m━━━━━━━━━━━━━━━━━━━━\u001b[0m\u001b[37m\u001b[0m \u001b[1m14s\u001b[0m 284ms/step - accuracy: 0.7107 - auc: 0.9255 - loss: 0.6367 - val_accuracy: 0.6325 - val_auc: 0.8024 - val_loss: 1.1335\n",
      "Epoch 4/5\n",
      "\u001b[1m48/48\u001b[0m \u001b[32m━━━━━━━━━━━━━━━━━━━━\u001b[0m\u001b[37m\u001b[0m \u001b[1m14s\u001b[0m 281ms/step - accuracy: 0.7719 - auc: 0.9460 - loss: 0.5506 - val_accuracy: 0.5617 - val_auc: 0.7849 - val_loss: 1.1912\n",
      "Epoch 5/5\n",
      "\u001b[1m48/48\u001b[0m \u001b[32m━━━━━━━━━━━━━━━━━━━━\u001b[0m\u001b[37m\u001b[0m \u001b[1m14s\u001b[0m 293ms/step - accuracy: 0.7936 - auc: 0.9579 - loss: 0.4796 - val_accuracy: 0.8373 - val_auc: 0.9395 - val_loss: 0.6337\n",
      "Training on Client 2 with 1902 samples\n",
      "Train batch images: (32, 224, 224, 3), labels: (32, 4), label dtype: <dtype: 'float64'>\n",
      "Epoch 1/5\n",
      "\u001b[1m48/48\u001b[0m \u001b[32m━━━━━━━━━━━━━━━━━━━━\u001b[0m\u001b[37m\u001b[0m \u001b[1m15s\u001b[0m 293ms/step - accuracy: 0.4411 - auc: 0.7164 - loss: 1.2659 - val_accuracy: 0.0000e+00 - val_auc: 0.4901 - val_loss: 1.7529\n",
      "Epoch 2/5\n",
      "\u001b[1m48/48\u001b[0m \u001b[32m━━━━━━━━━━━━━━━━━━━━\u001b[0m\u001b[37m\u001b[0m \u001b[1m14s\u001b[0m 287ms/step - accuracy: 0.6518 - auc: 0.8863 - loss: 0.7971 - val_accuracy: 0.3412 - val_auc: 0.6530 - val_loss: 1.3493\n",
      "Epoch 3/5\n",
      "\u001b[1m48/48\u001b[0m \u001b[32m━━━━━━━━━━━━━━━━━━━━\u001b[0m\u001b[37m\u001b[0m \u001b[1m14s\u001b[0m 283ms/step - accuracy: 0.7135 - auc: 0.9169 - loss: 0.6820 - val_accuracy: 0.6010 - val_auc: 0.7952 - val_loss: 1.1206\n",
      "Epoch 4/5\n",
      "\u001b[1m48/48\u001b[0m \u001b[32m━━━━━━━━━━━━━━━━━━━━\u001b[0m\u001b[37m\u001b[0m \u001b[1m15s\u001b[0m 297ms/step - accuracy: 0.7420 - auc: 0.9367 - loss: 0.5952 - val_accuracy: 0.4829 - val_auc: 0.7067 - val_loss: 1.3038\n",
      "Epoch 5/5\n",
      "\u001b[1m48/48\u001b[0m \u001b[32m━━━━━━━━━━━━━━━━━━━━\u001b[0m\u001b[37m\u001b[0m \u001b[1m14s\u001b[0m 289ms/step - accuracy: 0.7886 - auc: 0.9542 - loss: 0.4973 - val_accuracy: 0.6247 - val_auc: 0.8203 - val_loss: 1.0740\n",
      "\n",
      "### Federated Round 2 ###\n",
      "Training on Client 0 with 1902 samples\n",
      "Train batch images: (32, 224, 224, 3), labels: (32, 4), label dtype: <dtype: 'float64'>\n",
      "Epoch 1/5\n",
      "\u001b[1m48/48\u001b[0m \u001b[32m━━━━━━━━━━━━━━━━━━━━\u001b[0m\u001b[37m\u001b[0m \u001b[1m16s\u001b[0m 298ms/step - accuracy: 0.7161 - auc: 0.9256 - loss: 0.6410 - val_accuracy: 0.5118 - val_auc: 0.7752 - val_loss: 1.1163\n",
      "Epoch 2/5\n",
      "\u001b[1m48/48\u001b[0m \u001b[32m━━━━━━━━━━━━━━━━━━━━\u001b[0m\u001b[37m\u001b[0m \u001b[1m15s\u001b[0m 303ms/step - accuracy: 0.7949 - auc: 0.9540 - loss: 0.5101 - val_accuracy: 0.8005 - val_auc: 0.9339 - val_loss: 0.6599\n",
      "Epoch 3/5\n",
      "\u001b[1m48/48\u001b[0m \u001b[32m━━━━━━━━━━━━━━━━━━━━\u001b[0m\u001b[37m\u001b[0m \u001b[1m15s\u001b[0m 303ms/step - accuracy: 0.8365 - auc: 0.9681 - loss: 0.4214 - val_accuracy: 0.8478 - val_auc: 0.9643 - val_loss: 0.4833\n",
      "Epoch 4/5\n",
      "\u001b[1m48/48\u001b[0m \u001b[32m━━━━━━━━━━━━━━━━━━━━\u001b[0m\u001b[37m\u001b[0m \u001b[1m15s\u001b[0m 302ms/step - accuracy: 0.8541 - auc: 0.9733 - loss: 0.3730 - val_accuracy: 0.6247 - val_auc: 0.8331 - val_loss: 1.1182\n",
      "Epoch 5/5\n",
      "\u001b[1m48/48\u001b[0m \u001b[32m━━━━━━━━━━━━━━━━━━━━\u001b[0m\u001b[37m\u001b[0m \u001b[1m14s\u001b[0m 296ms/step - accuracy: 0.8922 - auc: 0.9849 - loss: 0.2783 - val_accuracy: 0.7953 - val_auc: 0.9477 - val_loss: 0.5648\n",
      "Training on Client 1 with 1902 samples\n",
      "Train batch images: (32, 224, 224, 3), labels: (32, 4), label dtype: <dtype: 'float64'>\n",
      "Epoch 1/5\n",
      "\u001b[1m48/48\u001b[0m \u001b[32m━━━━━━━━━━━━━━━━━━━━\u001b[0m\u001b[37m\u001b[0m \u001b[1m16s\u001b[0m 299ms/step - accuracy: 0.7386 - auc: 0.9317 - loss: 0.6209 - val_accuracy: 0.5039 - val_auc: 0.7074 - val_loss: 1.2748\n",
      "Epoch 2/5\n",
      "\u001b[1m48/48\u001b[0m \u001b[32m━━━━━━━━━━━━━━━━━━━━\u001b[0m\u001b[37m\u001b[0m \u001b[1m15s\u001b[0m 302ms/step - accuracy: 0.8097 - auc: 0.9585 - loss: 0.4847 - val_accuracy: 0.8478 - val_auc: 0.9377 - val_loss: 0.6700\n",
      "Epoch 3/5\n",
      "\u001b[1m48/48\u001b[0m \u001b[32m━━━━━━━━━━━━━━━━━━━━\u001b[0m\u001b[37m\u001b[0m \u001b[1m15s\u001b[0m 305ms/step - accuracy: 0.8450 - auc: 0.9727 - loss: 0.3805 - val_accuracy: 0.8451 - val_auc: 0.9323 - val_loss: 0.6604\n",
      "Epoch 4/5\n",
      "\u001b[1m48/48\u001b[0m \u001b[32m━━━━━━━━━━━━━━━━━━━━\u001b[0m\u001b[37m\u001b[0m \u001b[1m15s\u001b[0m 301ms/step - accuracy: 0.8805 - auc: 0.9793 - loss: 0.3321 - val_accuracy: 0.7874 - val_auc: 0.8974 - val_loss: 0.8682\n",
      "Epoch 5/5\n",
      "\u001b[1m48/48\u001b[0m \u001b[32m━━━━━━━━━━━━━━━━━━━━\u001b[0m\u001b[37m\u001b[0m \u001b[1m15s\u001b[0m 305ms/step - accuracy: 0.9067 - auc: 0.9876 - loss: 0.2576 - val_accuracy: 0.8688 - val_auc: 0.9522 - val_loss: 0.5561\n",
      "Training on Client 2 with 1902 samples\n",
      "Train batch images: (32, 224, 224, 3), labels: (32, 4), label dtype: <dtype: 'float64'>\n",
      "Epoch 1/5\n",
      "\u001b[1m48/48\u001b[0m \u001b[32m━━━━━━━━━━━━━━━━━━━━\u001b[0m\u001b[37m\u001b[0m \u001b[1m15s\u001b[0m 298ms/step - accuracy: 0.7444 - auc: 0.9294 - loss: 0.6280 - val_accuracy: 0.7034 - val_auc: 0.8586 - val_loss: 0.9505\n",
      "Epoch 2/5\n",
      "\u001b[1m48/48\u001b[0m \u001b[32m━━━━━━━━━━━━━━━━━━━━\u001b[0m\u001b[37m\u001b[0m \u001b[1m15s\u001b[0m 303ms/step - accuracy: 0.8054 - auc: 0.9578 - loss: 0.4886 - val_accuracy: 0.7979 - val_auc: 0.9049 - val_loss: 0.8080\n",
      "Epoch 3/5\n",
      "\u001b[1m48/48\u001b[0m \u001b[32m━━━━━━━━━━━━━━━━━━━━\u001b[0m\u001b[37m\u001b[0m \u001b[1m15s\u001b[0m 301ms/step - accuracy: 0.8098 - auc: 0.9636 - loss: 0.4462 - val_accuracy: 0.8530 - val_auc: 0.9479 - val_loss: 0.5736\n",
      "Epoch 4/5\n",
      "\u001b[1m48/48\u001b[0m \u001b[32m━━━━━━━━━━━━━━━━━━━━\u001b[0m\u001b[37m\u001b[0m \u001b[1m15s\u001b[0m 299ms/step - accuracy: 0.8604 - auc: 0.9743 - loss: 0.3760 - val_accuracy: 0.8924 - val_auc: 0.9754 - val_loss: 0.3650\n",
      "Epoch 5/5\n",
      "\u001b[1m48/48\u001b[0m \u001b[32m━━━━━━━━━━━━━━━━━━━━\u001b[0m\u001b[37m\u001b[0m \u001b[1m15s\u001b[0m 300ms/step - accuracy: 0.8707 - auc: 0.9801 - loss: 0.3256 - val_accuracy: 0.8215 - val_auc: 0.9442 - val_loss: 0.5735\n",
      "\n",
      "### Federated Round 3 ###\n",
      "Training on Client 0 with 1902 samples\n",
      "Train batch images: (32, 224, 224, 3), labels: (32, 4), label dtype: <dtype: 'float64'>\n",
      "Epoch 1/5\n",
      "\u001b[1m48/48\u001b[0m \u001b[32m━━━━━━━━━━━━━━━━━━━━\u001b[0m\u001b[37m\u001b[0m \u001b[1m16s\u001b[0m 301ms/step - accuracy: 0.8571 - auc: 0.9778 - loss: 0.3434 - val_accuracy: 0.8058 - val_auc: 0.9505 - val_loss: 0.5625\n",
      "Epoch 2/5\n",
      "\u001b[1m48/48\u001b[0m \u001b[32m━━━━━━━━━━━━━━━━━━━━\u001b[0m\u001b[37m\u001b[0m \u001b[1m15s\u001b[0m 304ms/step - accuracy: 0.8772 - auc: 0.9808 - loss: 0.3197 - val_accuracy: 0.8320 - val_auc: 0.9591 - val_loss: 0.4908\n",
      "Epoch 3/5\n",
      "\u001b[1m48/48\u001b[0m \u001b[32m━━━━━━━━━━━━━━━━━━━━\u001b[0m\u001b[37m\u001b[0m \u001b[1m15s\u001b[0m 303ms/step - accuracy: 0.9048 - auc: 0.9882 - loss: 0.2520 - val_accuracy: 0.9186 - val_auc: 0.9869 - val_loss: 0.2677\n",
      "Epoch 4/5\n",
      "\u001b[1m48/48\u001b[0m \u001b[32m━━━━━━━━━━━━━━━━━━━━\u001b[0m\u001b[37m\u001b[0m \u001b[1m15s\u001b[0m 302ms/step - accuracy: 0.9416 - auc: 0.9947 - loss: 0.1594 - val_accuracy: 0.8714 - val_auc: 0.9740 - val_loss: 0.3922\n",
      "Epoch 5/5\n",
      "\u001b[1m48/48\u001b[0m \u001b[32m━━━━━━━━━━━━━━━━━━━━\u001b[0m\u001b[37m\u001b[0m \u001b[1m15s\u001b[0m 306ms/step - accuracy: 0.9541 - auc: 0.9964 - loss: 0.1450 - val_accuracy: 0.9291 - val_auc: 0.9854 - val_loss: 0.2669\n",
      "Training on Client 1 with 1902 samples\n",
      "Train batch images: (32, 224, 224, 3), labels: (32, 4), label dtype: <dtype: 'float64'>\n",
      "Epoch 1/5\n",
      "\u001b[1m48/48\u001b[0m \u001b[32m━━━━━━━━━━━━━━━━━━━━\u001b[0m\u001b[37m\u001b[0m \u001b[1m16s\u001b[0m 296ms/step - accuracy: 0.8690 - auc: 0.9760 - loss: 0.3515 - val_accuracy: 0.8058 - val_auc: 0.9262 - val_loss: 0.6730\n",
      "Epoch 2/5\n",
      "\u001b[1m48/48\u001b[0m \u001b[32m━━━━━━━━━━━━━━━━━━━━\u001b[0m\u001b[37m\u001b[0m \u001b[1m15s\u001b[0m 299ms/step - accuracy: 0.9019 - auc: 0.9880 - loss: 0.2531 - val_accuracy: 0.8373 - val_auc: 0.9421 - val_loss: 0.5916\n",
      "Epoch 3/5\n",
      "\u001b[1m48/48\u001b[0m \u001b[32m━━━━━━━━━━━━━━━━━━━━\u001b[0m\u001b[37m\u001b[0m \u001b[1m14s\u001b[0m 292ms/step - accuracy: 0.9400 - auc: 0.9952 - loss: 0.1586 - val_accuracy: 0.8740 - val_auc: 0.9614 - val_loss: 0.4826\n",
      "Epoch 4/5\n",
      "\u001b[1m48/48\u001b[0m \u001b[32m━━━━━━━━━━━━━━━━━━━━\u001b[0m\u001b[37m\u001b[0m \u001b[1m14s\u001b[0m 292ms/step - accuracy: 0.9429 - auc: 0.9953 - loss: 0.1576 - val_accuracy: 0.8320 - val_auc: 0.9333 - val_loss: 0.7424\n",
      "Epoch 5/5\n",
      "\u001b[1m48/48\u001b[0m \u001b[32m━━━━━━━━━━━━━━━━━━━━\u001b[0m\u001b[37m\u001b[0m \u001b[1m14s\u001b[0m 289ms/step - accuracy: 0.9609 - auc: 0.9972 - loss: 0.1177 - val_accuracy: 0.9108 - val_auc: 0.9786 - val_loss: 0.3374\n",
      "Training on Client 2 with 1902 samples\n",
      "Train batch images: (32, 224, 224, 3), labels: (32, 4), label dtype: <dtype: 'float64'>\n",
      "Epoch 1/5\n",
      "\u001b[1m48/48\u001b[0m \u001b[32m━━━━━━━━━━━━━━━━━━━━\u001b[0m\u001b[37m\u001b[0m \u001b[1m15s\u001b[0m 288ms/step - accuracy: 0.8587 - auc: 0.9723 - loss: 0.3890 - val_accuracy: 0.8898 - val_auc: 0.9669 - val_loss: 0.4156\n",
      "Epoch 2/5\n",
      "\u001b[1m48/48\u001b[0m \u001b[32m━━━━━━━━━━━━━━━━━━━━\u001b[0m\u001b[37m\u001b[0m \u001b[1m14s\u001b[0m 289ms/step - accuracy: 0.9021 - auc: 0.9838 - loss: 0.2900 - val_accuracy: 0.7953 - val_auc: 0.9311 - val_loss: 0.6489\n",
      "Epoch 3/5\n",
      "\u001b[1m48/48\u001b[0m \u001b[32m━━━━━━━━━━━━━━━━━━━━\u001b[0m\u001b[37m\u001b[0m \u001b[1m14s\u001b[0m 289ms/step - accuracy: 0.9271 - auc: 0.9883 - loss: 0.2362 - val_accuracy: 0.9423 - val_auc: 0.9890 - val_loss: 0.2276\n",
      "Epoch 4/5\n",
      "\u001b[1m48/48\u001b[0m \u001b[32m━━━━━━━━━━━━━━━━━━━━\u001b[0m\u001b[37m\u001b[0m \u001b[1m14s\u001b[0m 294ms/step - accuracy: 0.9377 - auc: 0.9922 - loss: 0.1841 - val_accuracy: 0.8793 - val_auc: 0.9627 - val_loss: 0.4448\n",
      "Epoch 5/5\n",
      "\u001b[1m48/48\u001b[0m \u001b[32m━━━━━━━━━━━━━━━━━━━━\u001b[0m\u001b[37m\u001b[0m \u001b[1m15s\u001b[0m 298ms/step - accuracy: 0.9659 - auc: 0.9971 - loss: 0.1184 - val_accuracy: 0.9239 - val_auc: 0.9788 - val_loss: 0.3154\n",
      "\n",
      "### Federated Round 4 ###\n",
      "Training on Client 0 with 1902 samples\n",
      "Train batch images: (32, 224, 224, 3), labels: (32, 4), label dtype: <dtype: 'float64'>\n",
      "Epoch 1/5\n",
      "\u001b[1m48/48\u001b[0m \u001b[32m━━━━━━━━━━━━━━━━━━━━\u001b[0m\u001b[37m\u001b[0m \u001b[1m16s\u001b[0m 300ms/step - accuracy: 0.9143 - auc: 0.9896 - loss: 0.2231 - val_accuracy: 0.8399 - val_auc: 0.9601 - val_loss: 0.4907\n",
      "Epoch 2/5\n",
      "\u001b[1m48/48\u001b[0m \u001b[32m━━━━━━━━━━━━━━━━━━━━\u001b[0m\u001b[37m\u001b[0m \u001b[1m14s\u001b[0m 296ms/step - accuracy: 0.9448 - auc: 0.9960 - loss: 0.1422 - val_accuracy: 0.8583 - val_auc: 0.9605 - val_loss: 0.4923\n",
      "Epoch 3/5\n",
      "\u001b[1m48/48\u001b[0m \u001b[32m━━━━━━━━━━━━━━━━━━━━\u001b[0m\u001b[37m\u001b[0m \u001b[1m14s\u001b[0m 295ms/step - accuracy: 0.9536 - auc: 0.9972 - loss: 0.1172 - val_accuracy: 0.9449 - val_auc: 0.9910 - val_loss: 0.2078\n",
      "Epoch 4/5\n",
      "\u001b[1m48/48\u001b[0m \u001b[32m━━━━━━━━━━━━━━━━━━━━\u001b[0m\u001b[37m\u001b[0m \u001b[1m14s\u001b[0m 292ms/step - accuracy: 0.9653 - auc: 0.9965 - loss: 0.1095 - val_accuracy: 0.7953 - val_auc: 0.9391 - val_loss: 0.7355\n",
      "Epoch 5/5\n",
      "\u001b[1m48/48\u001b[0m \u001b[32m━━━━━━━━━━━━━━━━━━━━\u001b[0m\u001b[37m\u001b[0m \u001b[1m14s\u001b[0m 289ms/step - accuracy: 0.9749 - auc: 0.9978 - loss: 0.0866 - val_accuracy: 0.9213 - val_auc: 0.9854 - val_loss: 0.2822\n",
      "Training on Client 1 with 1902 samples\n",
      "Train batch images: (32, 224, 224, 3), labels: (32, 4), label dtype: <dtype: 'float64'>\n",
      "Epoch 1/5\n",
      "\u001b[1m48/48\u001b[0m \u001b[32m━━━━━━━━━━━━━━━━━━━━\u001b[0m\u001b[37m\u001b[0m \u001b[1m15s\u001b[0m 293ms/step - accuracy: 0.9360 - auc: 0.9922 - loss: 0.1867 - val_accuracy: 0.8950 - val_auc: 0.9768 - val_loss: 0.3667\n",
      "Epoch 2/5\n",
      "\u001b[1m48/48\u001b[0m \u001b[32m━━━━━━━━━━━━━━━━━━━━\u001b[0m\u001b[37m\u001b[0m \u001b[1m14s\u001b[0m 284ms/step - accuracy: 0.9515 - auc: 0.9972 - loss: 0.1218 - val_accuracy: 0.8950 - val_auc: 0.9804 - val_loss: 0.3321\n",
      "Epoch 3/5\n",
      "\u001b[1m48/48\u001b[0m \u001b[32m━━━━━━━━━━━━━━━━━━━━\u001b[0m\u001b[37m\u001b[0m \u001b[1m14s\u001b[0m 287ms/step - accuracy: 0.9713 - auc: 0.9979 - loss: 0.0977 - val_accuracy: 0.8976 - val_auc: 0.9801 - val_loss: 0.3454\n",
      "Epoch 4/5\n",
      "\u001b[1m48/48\u001b[0m \u001b[32m━━━━━━━━━━━━━━━━━━━━\u001b[0m\u001b[37m\u001b[0m \u001b[1m14s\u001b[0m 290ms/step - accuracy: 0.9601 - auc: 0.9973 - loss: 0.1036 - val_accuracy: 0.8714 - val_auc: 0.9665 - val_loss: 0.5214\n",
      "Epoch 5/5\n",
      "\u001b[1m48/48\u001b[0m \u001b[32m━━━━━━━━━━━━━━━━━━━━\u001b[0m\u001b[37m\u001b[0m \u001b[1m14s\u001b[0m 283ms/step - accuracy: 0.9747 - auc: 0.9987 - loss: 0.0752 - val_accuracy: 0.9370 - val_auc: 0.9873 - val_loss: 0.2466\n",
      "Training on Client 2 with 1902 samples\n",
      "Train batch images: (32, 224, 224, 3), labels: (32, 4), label dtype: <dtype: 'float64'>\n",
      "Epoch 1/5\n",
      "\u001b[1m48/48\u001b[0m \u001b[32m━━━━━━━━━━━━━━━━━━━━\u001b[0m\u001b[37m\u001b[0m \u001b[1m15s\u001b[0m 288ms/step - accuracy: 0.9180 - auc: 0.9909 - loss: 0.2098 - val_accuracy: 0.9239 - val_auc: 0.9841 - val_loss: 0.2896\n",
      "Epoch 2/5\n",
      "\u001b[1m48/48\u001b[0m \u001b[32m━━━━━━━━━━━━━━━━━━━━\u001b[0m\u001b[37m\u001b[0m \u001b[1m14s\u001b[0m 286ms/step - accuracy: 0.9438 - auc: 0.9949 - loss: 0.1581 - val_accuracy: 0.9055 - val_auc: 0.9712 - val_loss: 0.4018\n",
      "Epoch 3/5\n",
      "\u001b[1m48/48\u001b[0m \u001b[32m━━━━━━━━━━━━━━━━━━━━\u001b[0m\u001b[37m\u001b[0m \u001b[1m14s\u001b[0m 294ms/step - accuracy: 0.9480 - auc: 0.9939 - loss: 0.1668 - val_accuracy: 0.8924 - val_auc: 0.9693 - val_loss: 0.4414\n",
      "Epoch 4/5\n",
      "\u001b[1m48/48\u001b[0m \u001b[32m━━━━━━━━━━━━━━━━━━━━\u001b[0m\u001b[37m\u001b[0m \u001b[1m15s\u001b[0m 299ms/step - accuracy: 0.9631 - auc: 0.9976 - loss: 0.1038 - val_accuracy: 0.9291 - val_auc: 0.9839 - val_loss: 0.3197\n",
      "Epoch 5/5\n",
      "\u001b[1m48/48\u001b[0m \u001b[32m━━━━━━━━━━━━━━━━━━━━\u001b[0m\u001b[37m\u001b[0m \u001b[1m14s\u001b[0m 297ms/step - accuracy: 0.9778 - auc: 0.9989 - loss: 0.0704 - val_accuracy: 0.9239 - val_auc: 0.9860 - val_loss: 0.2769\n",
      "\n",
      "### Federated Round 5 ###\n",
      "Training on Client 0 with 1902 samples\n",
      "Train batch images: (32, 224, 224, 3), labels: (32, 4), label dtype: <dtype: 'float64'>\n",
      "Epoch 1/5\n",
      "\u001b[1m48/48\u001b[0m \u001b[32m━━━━━━━━━━━━━━━━━━━━\u001b[0m\u001b[37m\u001b[0m \u001b[1m15s\u001b[0m 293ms/step - accuracy: 0.9383 - auc: 0.9927 - loss: 0.1616 - val_accuracy: 0.8583 - val_auc: 0.9706 - val_loss: 0.4413\n",
      "Epoch 2/5\n",
      "\u001b[1m48/48\u001b[0m \u001b[32m━━━━━━━━━━━━━━━━━━━━\u001b[0m\u001b[37m\u001b[0m \u001b[1m15s\u001b[0m 300ms/step - accuracy: 0.9692 - auc: 0.9988 - loss: 0.0737 - val_accuracy: 0.9134 - val_auc: 0.9854 - val_loss: 0.2825\n",
      "Epoch 3/5\n",
      "\u001b[1m48/48\u001b[0m \u001b[32m━━━━━━━━━━━━━━━━━━━━\u001b[0m\u001b[37m\u001b[0m \u001b[1m15s\u001b[0m 300ms/step - accuracy: 0.9720 - auc: 0.9985 - loss: 0.0798 - val_accuracy: 0.9055 - val_auc: 0.9823 - val_loss: 0.3186\n",
      "Epoch 4/5\n",
      "\u001b[1m48/48\u001b[0m \u001b[32m━━━━━━━━━━━━━━━━━━━━\u001b[0m\u001b[37m\u001b[0m \u001b[1m14s\u001b[0m 292ms/step - accuracy: 0.9792 - auc: 0.9975 - loss: 0.0757 - val_accuracy: 0.9003 - val_auc: 0.9852 - val_loss: 0.2713\n",
      "Epoch 5/5\n",
      "\u001b[1m48/48\u001b[0m \u001b[32m━━━━━━━━━━━━━━━━━━━━\u001b[0m\u001b[37m\u001b[0m \u001b[1m14s\u001b[0m 285ms/step - accuracy: 0.9824 - auc: 0.9992 - loss: 0.0529 - val_accuracy: 0.9449 - val_auc: 0.9948 - val_loss: 0.1482\n",
      "Training on Client 1 with 1902 samples\n",
      "Train batch images: (32, 224, 224, 3), labels: (32, 4), label dtype: <dtype: 'float64'>\n",
      "Epoch 1/5\n",
      "\u001b[1m48/48\u001b[0m \u001b[32m━━━━━━━━━━━━━━━━━━━━\u001b[0m\u001b[37m\u001b[0m \u001b[1m16s\u001b[0m 297ms/step - accuracy: 0.9719 - auc: 0.9977 - loss: 0.0897 - val_accuracy: 0.8556 - val_auc: 0.9630 - val_loss: 0.5146\n",
      "Epoch 2/5\n",
      "\u001b[1m48/48\u001b[0m \u001b[32m━━━━━━━━━━━━━━━━━━━━\u001b[0m\u001b[37m\u001b[0m \u001b[1m14s\u001b[0m 297ms/step - accuracy: 0.9681 - auc: 0.9979 - loss: 0.0820 - val_accuracy: 0.8661 - val_auc: 0.9657 - val_loss: 0.4933\n",
      "Epoch 3/5\n",
      "\u001b[1m48/48\u001b[0m \u001b[32m━━━━━━━━━━━━━━━━━━━━\u001b[0m\u001b[37m\u001b[0m \u001b[1m14s\u001b[0m 294ms/step - accuracy: 0.9793 - auc: 0.9987 - loss: 0.0703 - val_accuracy: 0.8478 - val_auc: 0.9612 - val_loss: 0.5736\n",
      "Epoch 4/5\n",
      "\u001b[1m48/48\u001b[0m \u001b[32m━━━━━━━━━━━━━━━━━━━━\u001b[0m\u001b[37m\u001b[0m \u001b[1m14s\u001b[0m 288ms/step - accuracy: 0.9906 - auc: 0.9997 - loss: 0.0432 - val_accuracy: 0.8950 - val_auc: 0.9668 - val_loss: 0.5335\n",
      "Epoch 5/5\n",
      "\u001b[1m48/48\u001b[0m \u001b[32m━━━━━━━━━━━━━━━━━━━━\u001b[0m\u001b[37m\u001b[0m \u001b[1m14s\u001b[0m 282ms/step - accuracy: 0.9849 - auc: 0.9996 - loss: 0.0427 - val_accuracy: 0.9081 - val_auc: 0.9831 - val_loss: 0.3269\n",
      "Training on Client 2 with 1902 samples\n",
      "Train batch images: (32, 224, 224, 3), labels: (32, 4), label dtype: <dtype: 'float64'>\n",
      "Epoch 1/5\n",
      "\u001b[1m48/48\u001b[0m \u001b[32m━━━━━━━━━━━━━━━━━━━━\u001b[0m\u001b[37m\u001b[0m \u001b[1m15s\u001b[0m 285ms/step - accuracy: 0.9424 - auc: 0.9941 - loss: 0.1618 - val_accuracy: 0.9213 - val_auc: 0.9848 - val_loss: 0.2855\n",
      "Epoch 2/5\n",
      "\u001b[1m48/48\u001b[0m \u001b[32m━━━━━━━━━━━━━━━━━━━━\u001b[0m\u001b[37m\u001b[0m \u001b[1m14s\u001b[0m 286ms/step - accuracy: 0.9768 - auc: 0.9980 - loss: 0.0926 - val_accuracy: 0.9449 - val_auc: 0.9901 - val_loss: 0.2133\n",
      "Epoch 3/5\n",
      "\u001b[1m48/48\u001b[0m \u001b[32m━━━━━━━━━━━━━━━━━━━━\u001b[0m\u001b[37m\u001b[0m \u001b[1m14s\u001b[0m 294ms/step - accuracy: 0.9783 - auc: 0.9989 - loss: 0.0692 - val_accuracy: 0.9423 - val_auc: 0.9846 - val_loss: 0.2610\n",
      "Epoch 4/5\n",
      "\u001b[1m48/48\u001b[0m \u001b[32m━━━━━━━━━━━━━━━━━━━━\u001b[0m\u001b[37m\u001b[0m \u001b[1m14s\u001b[0m 286ms/step - accuracy: 0.9818 - auc: 0.9995 - loss: 0.0503 - val_accuracy: 0.9449 - val_auc: 0.9895 - val_loss: 0.2117\n",
      "Epoch 5/5\n",
      "\u001b[1m48/48\u001b[0m \u001b[32m━━━━━━━━━━━━━━━━━━━━\u001b[0m\u001b[37m\u001b[0m \u001b[1m14s\u001b[0m 294ms/step - accuracy: 0.9848 - auc: 0.9983 - loss: 0.0601 - val_accuracy: 0.8976 - val_auc: 0.9713 - val_loss: 0.4603\n",
      "\n",
      "Total training time: 1092.53 seconds\n"
     ]
    }
   ],
   "source": [
    "# Cell 7 — Manual Federated Training Loop with Debugging Checks\n",
    "start_time = tf.timestamp()\n",
    "global_model = create_model()\n",
    "global_weights = global_model.get_weights()\n",
    "\n",
    "for round_num in range(ROUNDS):\n",
    "    print(f\"\\n### Federated Round {round_num + 1} ###\")\n",
    "    client_weights_list = []\n",
    "    client_sizes = []\n",
    "\n",
    "    for cid, (images, labels) in enumerate(client_data):\n",
    "        print(f\"Training on Client {cid} with {len(images)} samples\")\n",
    "        \n",
    "        client_model = create_model()\n",
    "        client_model.set_weights(global_weights)\n",
    "\n",
    "        train_split = int(0.8 * len(images))\n",
    "        train_imgs = images[:train_split]\n",
    "        train_lbls = labels[:train_split].astype(np.int32)  # ensure int32\n",
    "        val_imgs = images[train_split:]\n",
    "        val_lbls = labels[train_split:].astype(np.int32)\n",
    "\n",
    "        train_ds = preprocess_dataset(train_imgs, train_lbls, training=True)\n",
    "        val_ds = preprocess_dataset(val_imgs, val_lbls, training=False)\n",
    "\n",
    "        # Debug shapes before fit (uncomment to inspect)\n",
    "        for imgs, lbls in train_ds.take(1):\n",
    "            print(f\"Train batch images: {imgs.shape}, labels: {lbls.shape}, label dtype: {lbls.dtype}\")\n",
    "\n",
    "        client_model.fit(train_ds, epochs=LOCAL_EPOCHS, validation_data=val_ds, verbose=1)\n",
    "\n",
    "        client_weights_list.append(client_model.get_weights())\n",
    "        client_sizes.append(len(train_imgs))\n",
    "\n",
    "    # Federated Averaging of weights\n",
    "    new_global_weights = []\n",
    "    total_samples = sum(client_sizes)\n",
    "\n",
    "    for weights_tuple in zip(*client_weights_list):\n",
    "        weighted_sum = np.sum([w * size for w, size in zip(weights_tuple, client_sizes)], axis=0)\n",
    "        new_global_weights.append(weighted_sum / total_samples)\n",
    "\n",
    "    global_weights = new_global_weights\n",
    "    global_model.set_weights(global_weights)\n",
    "end_time = tf.timestamp()\n",
    "\n",
    "print(f\"\\nTotal training time: {end_time - start_time:.2f} seconds\")"
   ]
  },
  {
   "cell_type": "code",
   "execution_count": null,
   "id": "deadd825",
   "metadata": {},
   "outputs": [
    {
     "name": "stdout",
     "output_type": "stream",
     "text": [
      "41/41 - 4s - 109ms/step - accuracy: 0.9527 - auc: 0.9946 - loss: 0.1705\n",
      "\n",
      "Test Loss: 0.1705, Accuracy: 0.9527, AUC: 0.9946\n",
      "\n",
      "Classification Report:\n",
      "              precision    recall  f1-score   support\n",
      "\n",
      "      glioma       0.97      0.93      0.95       300\n",
      "  meningioma       0.91      0.91      0.91       306\n",
      "     notumor       0.95      1.00      0.97       405\n",
      "   pituitary       0.98      0.96      0.97       300\n",
      "\n",
      "    accuracy                           0.95      1311\n",
      "   macro avg       0.95      0.95      0.95      1311\n",
      "weighted avg       0.95      0.95      0.95      1311\n",
      "\n"
     ]
    },
    {
     "data": {
      "image/png": "[encoded data removed]",
      "text/plain": [
       "<Figure size 700x600 with 2 Axes>"
      ]
     },
     "metadata": {},
     "output_type": "display_data"
    },
    {
     "ename": "",
     "evalue": "",
     "output_type": "error",
     "traceback": [
      "\u001b[1;31mThe Kernel crashed while executing code in the current cell or a previous cell. \n",
      "\u001b[1;31mPlease review the code in the cell(s) to identify a possible cause of the failure. \n",
      "\u001b[1;31mClick <a href='https://aka.ms/vscodeJupyterKernelCrash'>here</a> for more info. \n",
      "\u001b[1;31mView Jupyter <a href='command:jupyter.viewOutput'>log</a> for further details."
     ]
    }
   ],
   "source": [
    "test_ds = preprocess_dataset(test_image_paths, test_labels.astype(np.int32), training=False)\n",
    "loss, accuracy, auc = global_model.evaluate(test_ds, verbose=2)\n",
    "print(f\"\\nTest Loss: {loss:.4f}, Accuracy: {accuracy:.4f}, AUC: {auc:.4f}\")\n",
    "\n",
    "y_true, y_pred = [], []\n",
    "for x_batch, y_batch in test_ds:\n",
    "    preds = global_model.predict(x_batch, verbose=0)\n",
    "    y_true.extend(y_batch.numpy())\n",
    "    y_pred.extend(np.argmax(preds, axis=1))\n",
    "\n",
    "# Convert to numpy arrays\n",
    "y_true = np.array(y_true)\n",
    "y_pred = np.array(y_pred)\n",
    "\n",
    "# Ensure y_true and y_pred are 1D integer arrays (in case y_true is one-hot)\n",
    "if len(y_true.shape) > 1 and y_true.shape[1] > 1:\n",
    "    y_true = np.argmax(y_true, axis=1)\n",
    "if len(y_pred.shape) > 1 and y_pred.shape[1] > 1:\n",
    "    y_pred = np.argmax(y_pred, axis=1)\n",
    "\n",
    "print(\"\\nClassification Report:\")\n",
    "print(classification_report(y_true, y_pred, target_names=class_names))\n",
    "\n",
    "cm = confusion_matrix(y_true, y_pred)\n",
    "plt.figure(figsize=(7, 6))\n",
    "plt.imshow(cm, cmap=\"Blues\")\n",
    "plt.title(\"Confusion Matrix\")\n",
    "plt.xlabel(\"Predicted\")\n",
    "plt.ylabel(\"True\")\n",
    "plt.xticks(ticks=range(len(class_names)), labels=class_names, rotation=45)\n",
    "plt.yticks(ticks=range(len(class_names)), labels=class_names)\n",
    "plt.colorbar()\n",
    "plt.tight_layout()\n",
    "plt.show()\n"
   ]
  },
  {
   "cell_type": "code",
   "execution_count": null,
   "id": "c9fa3e8e",
   "metadata": {},
   "outputs": [],
   "source": []
  },
  {
   "cell_type": "markdown",
   "id": "a87f6be7",
   "metadata": {},
   "source": [
    "modify the pdf"
   ]
  },
  {
   "cell_type": "code",
   "execution_count": 1,
   "id": "41f93781",
   "metadata": {},
   "outputs": [
    {
     "name": "stdout",
     "output_type": "stream",
     "text": [
      "Collecting PyPDF2\n",
      "  Downloading pypdf2-3.0.1-py3-none-any.whl.metadata (6.8 kB)\n",
      "Downloading pypdf2-3.0.1-py3-none-any.whl (232 kB)\n",
      "Installing collected packages: PyPDF2\n",
      "Successfully installed PyPDF2-3.0.1\n",
      "Note: you may need to restart the kernel to use updated packages.\n"
     ]
    }
   ],
   "source": [
    "pip install PyPDF2"
   ]
  },
  {
   "cell_type": "markdown",
   "id": "16ed1e5e",
   "metadata": {},
   "source": []
  },
  {
   "cell_type": "code",
   "execution_count": 3,
   "id": "83bdae54",
   "metadata": {},
   "outputs": [],
   "source": [
    "from PyPDF2 import PdfReader\n",
    "\n",
    "reader = PdfReader(r\"D:\\EUP\\References\\Lifestyle_BARI 115_2025-06-04.pdf\")\n",
    "number_of_pages = len(reader.pages)\n",
    "page = reader.pages[0]\n",
    "text = page.extract_text()"
   ]
  },
  {
   "cell_type": "code",
   "execution_count": 6,
   "id": "b8a3e82d",
   "metadata": {},
   "outputs": [
    {
     "name": "stdout",
     "output_type": "stream",
     "text": [
      "Collecting PyMuPDF\n",
      "  Downloading pymupdf-1.26.4-cp39-abi3-win_amd64.whl.metadata (3.4 kB)\n",
      "Downloading pymupdf-1.26.4-cp39-abi3-win_amd64.whl (18.7 MB)\n",
      "   ---------------------------------------- 0.0/18.7 MB ? eta -:--:--\n",
      "   - -------------------------------------- 0.8/18.7 MB 5.6 MB/s eta 0:00:04\n",
      "   ---- ----------------------------------- 2.1/18.7 MB 6.5 MB/s eta 0:00:03\n",
      "   ------ --------------------------------- 3.1/18.7 MB 6.2 MB/s eta 0:00:03\n",
      "   -------- ------------------------------- 4.2/18.7 MB 5.9 MB/s eta 0:00:03\n",
      "   ----------- ---------------------------- 5.5/18.7 MB 6.0 MB/s eta 0:00:03\n",
      "   --------------- ------------------------ 7.1/18.7 MB 6.1 MB/s eta 0:00:02\n",
      "   ------------------ --------------------- 8.7/18.7 MB 6.3 MB/s eta 0:00:02\n",
      "   --------------------- ------------------ 10.0/18.7 MB 6.3 MB/s eta 0:00:02\n",
      "   ------------------------ --------------- 11.3/18.7 MB 6.3 MB/s eta 0:00:02\n",
      "   -------------------------- ------------- 12.6/18.7 MB 6.4 MB/s eta 0:00:01\n",
      "   ------------------------------ --------- 14.2/18.7 MB 6.4 MB/s eta 0:00:01\n",
      "   ------------------------------- -------- 14.7/18.7 MB 6.5 MB/s eta 0:00:01\n",
      "   ------------------------------- -------- 14.9/18.7 MB 5.7 MB/s eta 0:00:01\n",
      "   --------------------------------- ------ 15.5/18.7 MB 5.5 MB/s eta 0:00:01\n",
      "   ----------------------------------- ---- 16.8/18.7 MB 5.6 MB/s eta 0:00:01\n",
      "   -------------------------------------- - 18.1/18.7 MB 5.7 MB/s eta 0:00:01\n",
      "   ---------------------------------------- 18.7/18.7 MB 5.6 MB/s  0:00:03\n",
      "Installing collected packages: PyMuPDF\n",
      "Successfully installed PyMuPDF-1.26.4\n",
      "Note: you may need to restart the kernel to use updated packages.\n"
     ]
    }
   ],
   "source": [
    "pip install PyMuPDF"
   ]
  },
  {
   "cell_type": "code",
   "execution_count": 17,
   "id": "259a9dfd",
   "metadata": {},
   "outputs": [
    {
     "name": "stdout",
     "output_type": "stream",
     "text": [
      "Collecting frontend\n",
      "  Downloading frontend-0.0.3-py3-none-any.whl.metadata (847 bytes)\n",
      "Collecting starlette>=0.12.0 (from frontend)\n",
      "  Downloading starlette-0.47.3-py3-none-any.whl.metadata (6.2 kB)\n",
      "Collecting uvicorn>=0.7.1 (from frontend)\n",
      "  Downloading uvicorn-0.35.0-py3-none-any.whl.metadata (6.5 kB)\n",
      "Requirement already satisfied: itsdangerous>=1.1.0 in c:\\users\\amint\\anaconda3\\lib\\site-packages (from frontend) (2.2.0)\n",
      "Collecting aiofiles (from frontend)\n",
      "  Downloading aiofiles-24.1.0-py3-none-any.whl.metadata (10 kB)\n",
      "Requirement already satisfied: anyio<5,>=3.6.2 in c:\\users\\amint\\anaconda3\\lib\\site-packages (from starlette>=0.12.0->frontend) (4.9.0)\n",
      "Requirement already satisfied: typing-extensions>=4.10.0 in c:\\users\\amint\\anaconda3\\lib\\site-packages (from starlette>=0.12.0->frontend) (4.11.0)\n",
      "Requirement already satisfied: idna>=2.8 in c:\\users\\amint\\anaconda3\\lib\\site-packages (from anyio<5,>=3.6.2->starlette>=0.12.0->frontend) (3.7)\n",
      "Requirement already satisfied: sniffio>=1.1 in c:\\users\\amint\\anaconda3\\lib\\site-packages (from anyio<5,>=3.6.2->starlette>=0.12.0->frontend) (1.3.0)\n",
      "Requirement already satisfied: click>=7.0 in c:\\users\\amint\\anaconda3\\lib\\site-packages (from uvicorn>=0.7.1->frontend) (8.1.7)\n",
      "Requirement already satisfied: h11>=0.8 in c:\\users\\amint\\anaconda3\\lib\\site-packages (from uvicorn>=0.7.1->frontend) (0.14.0)\n",
      "Requirement already satisfied: colorama in c:\\users\\amint\\anaconda3\\lib\\site-packages (from click>=7.0->uvicorn>=0.7.1->frontend) (0.4.6)\n",
      "Downloading frontend-0.0.3-py3-none-any.whl (32 kB)\n",
      "Downloading starlette-0.47.3-py3-none-any.whl (72 kB)\n",
      "Downloading uvicorn-0.35.0-py3-none-any.whl (66 kB)\n",
      "Downloading aiofiles-24.1.0-py3-none-any.whl (15 kB)\n",
      "Installing collected packages: aiofiles, uvicorn, starlette, frontend\n",
      "\n",
      "   -------------------- ------------------- 2/4 [starlette]\n",
      "   ---------------------------------------- 4/4 [frontend]\n",
      "\n",
      "Successfully installed aiofiles-24.1.0 frontend-0.0.3 starlette-0.47.3 uvicorn-0.35.0\n",
      "Note: you may need to restart the kernel to use updated packages.\n"
     ]
    }
   ],
   "source": [
    "pip install frontend\n"
   ]
  },
  {
   "cell_type": "code",
   "execution_count": 7,
   "id": "5c13dda2",
   "metadata": {},
   "outputs": [],
   "source": [
    "import fitz  # PyMuPDF\n",
    "\n",
    "# Open the PDF file\n",
    "doc = fitz.open(r\"D:/EUP/References/Lifestyle_BARI 115_2025-06-04.pdf\")\n",
    "page = doc[0]  # first page\n",
    "\n",
    "# Approximate rectangles covering the first two \"No\" answers (x0,y0,x1,y1)\n",
    "# You need to adjust these coordinates after testing\n",
    "rects_to_replace = [\n",
    "    fitz.Rect(200, 680, 230, 700),  # example coords for first \"No\"\n",
    "    fitz.Rect(200, 660, 230, 680),  # example coords for second \"No\"\n",
    "]\n",
    "\n"
   ]
  },
  {
   "cell_type": "code",
   "execution_count": 8,
   "id": "faa2e48d",
   "metadata": {},
   "outputs": [
    {
     "name": "stdout",
     "output_type": "stream",
     "text": [
      "First two 'No' answers changed to 'Yes' and saved as 'Lifestyle_BARI-115_2025-06-04_modified.pdf'\n"
     ]
    }
   ],
   "source": [
    "for rect in rects_to_replace:\n",
    "    # Redact old \"No\"\n",
    "    page.add_redact_annot(rect, fill=(1, 1, 1))  # white fill\n",
    "page.apply_redactions()\n",
    "\n",
    "# Insert new \"Yes\" text on those positions\n",
    "for rect in rects_to_replace:\n",
    "    page.insert_text(rect.tl, \"Yes\", fontsize=12, fontname=\"helv\", color=(0, 0, 0))\n",
    "\n",
    "# Save as new PDF so original stays unchanged\n",
    "doc.save(\"Lifestyle_BARI-115_2025-06-04_modified.pdf\")\n",
    "doc.close()\n",
    "print(\"First two 'No' answers changed to 'Yes' and saved as 'Lifestyle_BARI-115_2025-06-04_modified.pdf'\")"
   ]
  },
  {
   "cell_type": "code",
   "execution_count": 11,
   "id": "cefe28ff",
   "metadata": {},
   "outputs": [
    {
     "name": "stdout",
     "output_type": "stream",
     "text": [
      "Collecting reportlab\n",
      "  Downloading reportlab-4.4.3-py3-none-any.whl.metadata (1.7 kB)\n",
      "Requirement already satisfied: pillow>=9.0.0 in c:\\users\\amint\\anaconda3\\lib\\site-packages (from reportlab) (10.4.0)\n",
      "Requirement already satisfied: charset-normalizer in c:\\users\\amint\\anaconda3\\lib\\site-packages (from reportlab) (3.3.2)\n",
      "Downloading reportlab-4.4.3-py3-none-any.whl (2.0 MB)\n",
      "   ---------------------------------------- 0.0/2.0 MB ? eta -:--:--\n",
      "   ----- ---------------------------------- 0.3/2.0 MB ? eta -:--:--\n",
      "   ---------------- ----------------------- 0.8/2.0 MB 2.8 MB/s eta 0:00:01\n",
      "   --------------------- ------------------ 1.0/2.0 MB 1.9 MB/s eta 0:00:01\n",
      "   -------------------------------- ------- 1.6/2.0 MB 2.2 MB/s eta 0:00:01\n",
      "   ---------------------------------------- 2.0/2.0 MB 2.3 MB/s  0:00:00\n",
      "Installing collected packages: reportlab\n",
      "Successfully installed reportlab-4.4.3\n",
      "Note: you may need to restart the kernel to use updated packages.\n"
     ]
    }
   ],
   "source": [
    "pip install reportlab"
   ]
  },
  {
   "cell_type": "code",
   "execution_count": 13,
   "id": "c838fe3e",
   "metadata": {},
   "outputs": [
    {
     "name": "stdout",
     "output_type": "stream",
     "text": [
      "o):\n",
      "No\n",
      "Dieta: meno d\n"
     ]
    }
   ],
   "source": [
    "from PyPDF2 import PdfReader\n",
    "from reportlab.pdfgen import canvas\n",
    "from reportlab.lib.pagesizes import letter\n",
    "\n",
    "# Step 1: Extract text\n",
    "reader = PdfReader(r\"D:\\EUP\\References\\Lifestyle_BARI 115_2025-06-04.pdf\")\n",
    "page = reader.pages[0]\n",
    "text = page.extract_text()\n",
    "\n",
    "print(text[180:200])  # <-- check what’s around index 184\n",
    "\n",
    "# Step 2: Replace \"No\" at position 184–186 with \"Yes\"\n",
    "new_text = text[:184] + \"Yes\" + text[186:]\n",
    "\n",
    "# Step 3: Save to new PDF\n",
    "output_path = r\"Modified.pdf\"\n",
    "c = canvas.Canvas(output_path, pagesize=letter)\n",
    "\n",
    "y = 750\n",
    "for line in new_text.split(\"\\n\"):\n",
    "    c.drawString(50, y, line)\n",
    "    y -= 20\n",
    "\n",
    "c.save()\n"
   ]
  },
  {
   "cell_type": "code",
   "execution_count": null,
   "id": "d718e0cf",
   "metadata": {},
   "outputs": [],
   "source": []
  }
 ],
 "metadata": {
  "kernelspec": {
   "display_name": "base",
   "language": "python",
   "name": "python3"
  },
  "language_info": {
   "codemirror_mode": {
    "name": "ipython",
    "version": 3
   },
   "file_extension": ".py",
   "mimetype": "text/x-python",
   "name": "python",
   "nbconvert_exporter": "python",
   "pygments_lexer": "ipython3",
   "version": "3.12.7"
  }
 },
 "nbformat": 4,
 "nbformat_minor": 5
}
